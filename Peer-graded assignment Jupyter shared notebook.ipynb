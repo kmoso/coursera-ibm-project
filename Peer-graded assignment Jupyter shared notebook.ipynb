{
    "nbformat_minor": 1, 
    "cells": [
        {
            "source": "# My Jupyter Notebook on IBM Data Science Experience", 
            "cell_type": "markdown", 
            "metadata": {
                "collapsed": true
            }
        }, 
        {
            "source": "**Carlos Virgilio Morlan Sobrino**\n\nData Engineering Lead", 
            "cell_type": "markdown", 
            "metadata": {}
        }, 
        {
            "source": "*I'm interested in learning data science tools so I can help in existing projects in the company where I work. I already helped with some data wrangling using Python and paticipated in some big data projects using Spark.*", 
            "cell_type": "markdown", 
            "metadata": {}
        }, 
        {
            "source": "### Following code is really simple, it will just count the number of letters p and P in a tongue twister assigned to a variable", 
            "cell_type": "markdown", 
            "metadata": {}
        }, 
        {
            "execution_count": 1, 
            "cell_type": "code", 
            "metadata": {}, 
            "outputs": [
                {
                    "output_type": "stream", 
                    "name": "stdout", 
                    "text": "28\n8\n"
                }
            ], 
            "source": "tt = \"Peter Piper picked a peck of pickled peppers. A peck of pickled peppers Peter Piper picked. If Peter Piper picked a peck of pickled peppers. Where\u2019s the peck of pickled peppers Peter Piper picked?\"\nprint (tt.count('p'))\nprint (tt.count('P'))"
        }, 
        {
            "source": "---\n* ~~Tree~~ Three\n* Two\n* One\n* Try!\n\n[![Wanna try?](http://assets.ecenglish.com/blogs/uploads/sites/36/2016/08/peppers.jpg)](https://youtu.be/qYFsQPMTli4)\n\n\n---", 
            "cell_type": "markdown", 
            "metadata": {}
        }
    ], 
    "metadata": {
        "kernelspec": {
            "display_name": "Python 3.5", 
            "name": "python3", 
            "language": "python"
        }, 
        "language_info": {
            "mimetype": "text/x-python", 
            "nbconvert_exporter": "python", 
            "version": "3.5.5", 
            "name": "python", 
            "file_extension": ".py", 
            "pygments_lexer": "ipython3", 
            "codemirror_mode": {
                "version": 3, 
                "name": "ipython"
            }
        }
    }, 
    "nbformat": 4
}